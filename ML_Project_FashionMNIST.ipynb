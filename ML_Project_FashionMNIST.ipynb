{
  "nbformat": 4,
  "nbformat_minor": 0,
  "metadata": {
    "colab": {
      "provenance": []
    },
    "kernelspec": {
      "name": "python3",
      "display_name": "Python 3"
    },
    "language_info": {
      "name": "python"
    },
    "accelerator": "GPU"
  },
  "cells": [
    {
      "cell_type": "markdown",
      "source": [
        "# **Machine Learning for Robotics II**\n",
        "\n",
        "**Classification of FashionMNIST dataset using CNN**\n",
        "\n",
        "The aim of this project is to perform multi-class classification on MNIST Fashion dataset using Convolution Neural Network (CNN). The neural network is build from scratch using PyTorch library. PyTorch is an environment for programming neural networks with the encapsulated effect that you can use hardware accelerators, such as CUDA. PyTorch is built on top of TensorFlow which is used for distributed machine learning on any platform."
      ],
      "metadata": {
        "id": "_yqhifzVaKrV"
      }
    },
    {
      "cell_type": "code",
      "execution_count": null,
      "metadata": {
        "id": "Erg0aR5CUERQ"
      },
      "outputs": [],
      "source": [
        "import torch\n",
        "import seaborn as sn\n",
        "import pandas as pd\n",
        "import numpy as np"
      ]
    },
    {
      "cell_type": "markdown",
      "source": [
        "**Hardware Accelerator**\n",
        "\n",
        "Colab allow us to find the cloud device where we can deploy and train our CNN using graphical processing unit (GPU), such as CUDA."
      ],
      "metadata": {
        "id": "MxKQPsMyP7Uf"
      }
    },
    {
      "cell_type": "code",
      "source": [
        "# device = CUDA, if a device is present, else CPU\n",
        "device = torch.device('cuda' if torch.cuda.is_available() else 'cpu')\n",
        "print(device)\n",
        "\n",
        "# If gpu is present then\n",
        "if torch.cuda.is_available():\n",
        "  # hardware accelerator\n",
        "  print(torch.cuda.get_device_name(0))"
      ],
      "metadata": {
        "colab": {
          "base_uri": "https://localhost:8080/"
        },
        "id": "lDoYRk1GU_9V",
        "outputId": "26aed305-19ae-4b82-b91a-19c659822a37"
      },
      "execution_count": null,
      "outputs": [
        {
          "output_type": "stream",
          "name": "stdout",
          "text": [
            "cuda\n",
            "Tesla T4\n"
          ]
        }
      ]
    },
    {
      "cell_type": "markdown",
      "source": [
        "As we can see 'cuda' is available with 'gpu' Tesla T4. "
      ],
      "metadata": {
        "id": "VqjbeTfTc0mD"
      }
    },
    {
      "cell_type": "markdown",
      "source": [
        "## **Importing Dataset**\n",
        "\n",
        "We are using the Fashion MNIST dataset which is available inside the torchvision library. This library allow us to split data into training and testing subsets and transform it into tensor which is a generic n-dimensional array used for arbitrary numeric computation."
      ],
      "metadata": {
        "id": "z1S3PxnUfJpe"
      }
    },
    {
      "cell_type": "code",
      "source": [
        "from torchvision import datasets\n",
        "from torchvision.transforms import ToTensor\n",
        "\n",
        "# creating training data with MNIST dataset.\n",
        "train_data = datasets.FashionMNIST(\n",
        "  root = 'data',\n",
        "  train = True,\n",
        "  transform = ToTensor(),\n",
        "  download = True\n",
        ")\n",
        "\n",
        "# creating testing data\n",
        "test_data = datasets.FashionMNIST(\n",
        "  root = 'data',\n",
        "  train = False,\n",
        "  transform = ToTensor(),\n",
        "  download = True\n",
        ")"
      ],
      "metadata": {
        "id": "o11pc6STVYCU"
      },
      "execution_count": null,
      "outputs": []
    },
    {
      "cell_type": "markdown",
      "source": [
        "Here, we have downloaded the data and split it into training and testing sets. Training set has 60,000 images and testing set has 10,000 images. Each sample has a size of 28x28. Unlike in classical ML examples, we don't vectorize this data and instead keep it in original form because convolution is able to deal directly with images."
      ],
      "metadata": {
        "id": "Kyb5N90_g_ZW"
      }
    },
    {
      "cell_type": "markdown",
      "source": [
        "# **Class Labels**"
      ],
      "metadata": {
        "id": "AcY4m4vykFpk"
      }
    },
    {
      "cell_type": "code",
      "source": [
        "Labels = {\n",
        "                 0: \"T-shirt/Top\",\n",
        "                 1: \"Trouser\",\n",
        "                 2: \"Pullover\",\n",
        "                 3: \"Dress\",\n",
        "                 4: \"Coat\", \n",
        "                 5: \"Sandal\", \n",
        "                 6: \"Shirt\",\n",
        "                 7: \"Sneaker\",\n",
        "                 8: \"Bag\",\n",
        "                 9: \"Ankle Boot\"\n",
        "          }"
      ],
      "metadata": {
        "id": "MtQhHJdgQePd"
      },
      "execution_count": null,
      "outputs": []
    },
    {
      "cell_type": "code",
      "source": [
        "print(train_data,\"\\n\")\n",
        "print(train_data.data.size(),\"\\n\")\n",
        "print(test_data,\"\\n\")\n",
        "print(test_data.data.size(), \"\\n\")"
      ],
      "metadata": {
        "colab": {
          "base_uri": "https://localhost:8080/"
        },
        "id": "Vo9V04t-4sZc",
        "outputId": "c77bf76c-0a2d-4900-a0c6-cb5f77892d9b"
      },
      "execution_count": null,
      "outputs": [
        {
          "output_type": "stream",
          "name": "stdout",
          "text": [
            "Dataset FashionMNIST\n",
            "    Number of datapoints: 60000\n",
            "    Root location: data\n",
            "    Split: Train\n",
            "    StandardTransform\n",
            "Transform: ToTensor() \n",
            "\n",
            "torch.Size([60000, 28, 28]) \n",
            "\n",
            "Dataset FashionMNIST\n",
            "    Number of datapoints: 10000\n",
            "    Root location: data\n",
            "    Split: Test\n",
            "    StandardTransform\n",
            "Transform: ToTensor() \n",
            "\n",
            "torch.Size([10000, 28, 28]) \n",
            "\n"
          ]
        }
      ]
    },
    {
      "cell_type": "markdown",
      "source": [
        "## **Checking data**"
      ],
      "metadata": {
        "id": "5devMn1YiYjd"
      }
    },
    {
      "cell_type": "markdown",
      "source": [
        "**Creating image matrix with their labels.**"
      ],
      "metadata": {
        "id": "ENHKsXpxjOja"
      }
    },
    {
      "cell_type": "code",
      "source": [
        "import matplotlib.pyplot as plt\n",
        "\n",
        "figure = plt.figure(figsize=(10,10))\n",
        "cols, rows = 3, 3\n",
        "for i in range(1,cols*rows+1):\n",
        "  j = torch.randint(len(train_data), size=(1,)).item()\n",
        "  img, label = train_data[j]\n",
        "  figure.add_subplot(rows,cols,i)\n",
        "  plt.imshow(img.squeeze(), cmap = 'gray')\n",
        "  plt.title('%s' % Labels[label])\n",
        "  plt.axis('off')\n",
        "plt.show()"
      ],
      "metadata": {
        "colab": {
          "base_uri": "https://localhost:8080/",
          "height": 591
        },
        "id": "pwLZRPSRY4EZ",
        "outputId": "da549296-2860-4319-ffc0-54fc7cf23843"
      },
      "execution_count": null,
      "outputs": [
        {
          "output_type": "display_data",
          "data": {
            "text/plain": [
              "<Figure size 720x720 with 9 Axes>"
            ],
            "image/png": "[encoded data removed]"
          },
          "metadata": {
            "needs_background": "light"
          }
        }
      ]
    },
    {
      "cell_type": "markdown",
      "source": [
        "## **Convolution Neural Network (CNN)**  \n",
        "\n",
        "After importing training and testing sets and plotting images with their respective labels, we will start building a CNN."
      ],
      "metadata": {
        "id": "_t1ggEftS0jg"
      }
    },
    {
      "cell_type": "markdown",
      "source": [
        "## **Data Loader**\n",
        "\n",
        "When we deal with neural networks, we usually have huge amounts of data. Huge enough that RAM is insufficient for it. This means that it cannot be loaded in the RAM as we usually do in the case of classical ML. For this reason, we need *DataLoader*. DataLoader basically handles data such that not all of it is stored in RAM but only a part of it. If we have 60,000 samples we can split it into smaller batches of size 100 for convenient storage and processing.  "
      ],
      "metadata": {
        "id": "30bzTxwETM3Q"
      }
    },
    {
      "cell_type": "code",
      "source": [
        "# Importing DataLoader Library. \n",
        "from torch.utils.data import DataLoader\n",
        "\n",
        "# Creating dictionary to store dataloaders of training and testing samples. \n",
        "loaders = {\n",
        "    'train' : DataLoader(train_data,\n",
        "                         batch_size = 100,\n",
        "                         shuffle = True,\n",
        "                         num_workers= 1),\n",
        "    'test'  : DataLoader(test_data,\n",
        "                         batch_size = 100,\n",
        "                         shuffle = True,\n",
        "                         num_workers= 1)\n",
        "}"
      ],
      "metadata": {
        "id": "FXE6i8zCZ7LC"
      },
      "execution_count": null,
      "outputs": []
    },
    {
      "cell_type": "markdown",
      "source": [
        "## **Creating a CNN Model**\n",
        "\n",
        "In case of neural network, the algorithm is actually the structure itself. We first define the shape and architecture of the neural network model. After this, we define the algorithm for training our model using training dataset (for example, gradient descent). After the training phase, we test our model on testing dataset and see the quality of results. \n",
        "\n",
        "We don't create the network completely from scratch. Torch environment provide us a network class for neural network construction with all the necessary functionalities. In order to construct a new neural network, we make sure that our network class inherits from this parent class. \n",
        "\n",
        "\n",
        "### **CNN Model Class**\n",
        "\n",
        "Defining CNN model class.\n",
        "\n",
        "**First Layer: (Conv1)**\n",
        "\n",
        "**in_channels** are the number of channels our image has that we pass in the convolutional layer as input. In our case, we have 1 channel only since the image is gray.\n",
        "\n",
        "**out_channels** are the number of channels we want the output of this convolutional layer to have. Usually it's 32 or 64 channels. In our case, it's 32. The more channels you have, the more capable the model is to set aside different kernels and creates different relations between pixels. At the same time, we also need to take into account that with more output channels, our convolutional layer will have more weights, bias and heavier model.  \n",
        "\n",
        "**Kernel size, stride and padding** will define what will be the size of our output image given the size of input image.\n",
        "\n",
        "**Kernel (3,3)** means that we will take the kernel window of 3x3 and slide it over the input image.\n",
        "\n",
        "**Stride (1,1)** means that our kernel will move pixel by pixel without skipping anything in between. \n",
        "\n",
        "**Padding (1,1)** means that we will add 1 empty pixel on the edges of the image.\n",
        "\n",
        "This combination of Kernel(3,3), Stride(1,1) and Padding(1,1) gives **SAME CONVOLUTION** which means that the size of the input image (width and height) is the same as output image.\n",
        "\n",
        "**Second Layer: (Conv2)**\n",
        "\n",
        "**in_channels** For second-layer, the input-channels will be equal to the output channel of first-layer which is 32 in our case.   \n",
        "\n",
        "**out_channels** The output channel will be equal to 64. \n",
        "\n",
        "**Kernel (3,3), Stride (1,1), Padding (1,1)** will remain the same as first layer.\n",
        "\n",
        "\n",
        "**MAX-POOL** with convolutional layers is very useful to utilize the max-pool concept. Max-pool is selects the maximum value from some number of pixels. So it decreases the size of the image and the next convolutional-layer has less weights and bias while the most important information from the image is secured resulting in a lighter model to go forward with.\n",
        "\n",
        "So, we will have a layer of max-pool with kernel size (2,2) and stride (2,2). The Kernel(2,2) decreases the width and height of the image by half.\n",
        "\n",
        "**Fully-Connected-Layer** \n",
        "\n",
        "We have a fully connected layer with parameters **in_features** which is equal to the linear size of image. In our case, it would be the number of output channels of the second-layer which is 64 and the size of the image after applying max-pooling. After max-pooling, the image will be equal to 1/4 of the original size. So in_feature = (img_w/4)*(img_h/4)*output_channels_2ndlayer\n",
        "\n",
        "The second parameter is the number of classes which in our case is 10."
      ],
      "metadata": {
        "id": "w0C6fEBuVlzx"
      }
    },
    {
      "cell_type": "code",
      "source": [
        " # Importing the Neural Network library from PyTorch\n",
        "import torch.nn as nn\n",
        "\n",
        "# constructing a class CNN (convolutional neural network) which inherits the functionalities from parent class 'nn.Module'\n",
        "class CNN(nn.Module):\n",
        "\n",
        "  # Calling the constructor \n",
        "  def __init__(self, num_channels=1, num_conv_channels=[32,64], image_h=28,\n",
        "               image_w=28, num_classes=10):\n",
        "\n",
        "    super(CNN,self).__init__()\n",
        "\n",
        "    # We will use 'Conv2d' class of \"nn\" library for creating convolutional layer.\n",
        "  \n",
        "    # Once our convolutional layer is set, we will put activation of type: \"ReLU\". Since we are using\n",
        "    # a big neural network, we can't use 'sigmoid' due to gradient vanishing problem. We need to\n",
        "    # use something that will allow us to propagate the gradient backward in the network. \n",
        "\n",
        "    # conv layer 1:\n",
        "    self.conv1 = nn.Sequential(\n",
        "        nn.Conv2d(in_channels=num_channels, out_channels=num_conv_channels[0],\n",
        "                           kernel_size=(3,3), stride=(1,1), padding=(1,1)),\n",
        "        nn.BatchNorm2d(num_conv_channels[0]),\n",
        "        nn.ReLU(),\n",
        "        nn.MaxPool2d(2,2))\n",
        "\n",
        "    # conv layer 2:\n",
        "    self.conv2 = nn.Sequential(\n",
        "        nn.Conv2d(in_channels=num_conv_channels[0], out_channels=num_conv_channels[1],\n",
        "                           kernel_size=(3,3), stride=(1,1), padding=(1,1)),\n",
        "        nn.BatchNorm2d(num_conv_channels[1]),\n",
        "        nn.ReLU(),\n",
        "        nn.MaxPool2d(2,2))    \n",
        "    \n",
        "    # Now, after this second layer we put a fully connected linear layer at the end.\n",
        "    # This layer will take the output of the previous layer as input. So, we need to\n",
        "    # find the size of the output images from second convolutional layer. \n",
        "    \n",
        "    # The size depends on the number of output channels, padding and stride in the previous\n",
        "    # layer, which is 64, 1 and 1. And also from the kernel size of max pooling in previous\n",
        "    # layer which is 2. \n",
        "\n",
        "    # Here, in our case the size of the output image is 64*7*7. We get 64 from the size of \n",
        "    # output channel of the previous layer and we get 7*7 as the size of the image. The size\n",
        "    # of the image is no longer 28x28 but it is 7x7 because we have applied max-pooling of\n",
        "    # kernel size 2 twice. So (((28x28)/2)/2)= 7x7.  \n",
        "        \n",
        "    # update\n",
        "    self.out = nn.Linear(num_conv_channels[1]*int(image_w/4)*int(image_h/4), num_classes)\n",
        "\n",
        "  # FORWARD PROPAGATION\n",
        "  # Now, since we have all the layer we can define the forward propagation. How these layers are connected together. \n",
        "  def forward(self, x):\n",
        "    x = self.conv1(x)\n",
        "    x = self.conv2(x)\n",
        "    # converting a multi-dimensional data into a vector.\n",
        "    x = x.view(x.size(0),-1)\n",
        "    x = self.out(x)\n",
        "    return x\n"
      ],
      "metadata": {
        "id": "eXGlW3GYcHWC"
      },
      "execution_count": null,
      "outputs": []
    },
    {
      "cell_type": "markdown",
      "source": [
        "## **Model Testing**\n",
        "\n",
        "Our CNN class is ready. Now, we will create an object of this class and test it with sample data and check if it is returning the result with a proper structure."
      ],
      "metadata": {
        "id": "8jOReVZImzlH"
      }
    },
    {
      "cell_type": "code",
      "source": [
        "cnn = CNN()\n",
        "# 32 images of 1 channel with width = 28 and height = 28.\n",
        "x = torch.randn(32, 1, 28, 28)\n",
        "y = cnn(x)\n",
        "# The shape of the output y have to be 32 which represents the number of samples and 10 which are the number of classes.\n",
        "print(x.shape)\n",
        "print(y.shape)"
      ],
      "metadata": {
        "colab": {
          "base_uri": "https://localhost:8080/"
        },
        "id": "ZEK8iqMQx4Vz",
        "outputId": "2263beb1-3d6c-411d-b146-3517da138bbf"
      },
      "execution_count": null,
      "outputs": [
        {
          "output_type": "stream",
          "name": "stdout",
          "text": [
            "torch.Size([32, 1, 28, 28])\n",
            "torch.Size([32, 10])\n"
          ]
        }
      ]
    },
    {
      "cell_type": "code",
      "source": [
        "cnn.to(device)\n",
        "print(cnn)"
      ],
      "metadata": {
        "id": "vOzKbIzon-7l",
        "colab": {
          "base_uri": "https://localhost:8080/"
        },
        "outputId": "249a427a-b4dc-40ba-e99d-ed4b96873952"
      },
      "execution_count": null,
      "outputs": [
        {
          "output_type": "stream",
          "name": "stdout",
          "text": [
            "CNN(\n",
            "  (conv1): Sequential(\n",
            "    (0): Conv2d(1, 32, kernel_size=(3, 3), stride=(1, 1), padding=(1, 1))\n",
            "    (1): BatchNorm2d(32, eps=1e-05, momentum=0.1, affine=True, track_running_stats=True)\n",
            "    (2): ReLU()\n",
            "    (3): MaxPool2d(kernel_size=2, stride=2, padding=0, dilation=1, ceil_mode=False)\n",
            "  )\n",
            "  (conv2): Sequential(\n",
            "    (0): Conv2d(32, 64, kernel_size=(3, 3), stride=(1, 1), padding=(1, 1))\n",
            "    (1): BatchNorm2d(64, eps=1e-05, momentum=0.1, affine=True, track_running_stats=True)\n",
            "    (2): ReLU()\n",
            "    (3): MaxPool2d(kernel_size=2, stride=2, padding=0, dilation=1, ceil_mode=False)\n",
            "  )\n",
            "  (out): Linear(in_features=3136, out_features=10, bias=True)\n",
            ")\n"
          ]
        }
      ]
    },
    {
      "cell_type": "markdown",
      "source": [
        "**LOSS FUNCTION OF CNN**\n",
        "\n",
        "We will use classical loss function for multi-class classification. This is a\n",
        "differential version of the loss function which tells us the mistakes. Other loss function won't work (labeled correct or labled not correct) because the derivative is zero. So we need to use a loss-function that approximates these in case of multi-class classification. This is the state-of-the-art."
      ],
      "metadata": {
        "id": "5D6sCXOup-4T"
      }
    },
    {
      "cell_type": "code",
      "source": [
        "loss_func = nn.CrossEntropyLoss()\n",
        "print(loss_func)"
      ],
      "metadata": {
        "id": "rtg1uFmLhywe",
        "colab": {
          "base_uri": "https://localhost:8080/"
        },
        "outputId": "ea190f3a-95ae-4c22-c3be-3f1bb181f072"
      },
      "execution_count": null,
      "outputs": [
        {
          "output_type": "stream",
          "name": "stdout",
          "text": [
            "CrossEntropyLoss()\n"
          ]
        }
      ]
    },
    {
      "cell_type": "markdown",
      "source": [
        "**OPTIMIZER**\n",
        "\n",
        "Now, once we have defined the structure of the function and the error to check which are the good parameters for this architecture, we need to define the optimizer.\n",
        "\n",
        "We use the optimizer \"Adam\" which is the simplest gradient\n",
        "descent with an adaptive learning rate. We need to pass the parameters in optimizer which in our case are \"cnn.parameters()\". We can even choose to optimize individual layers. We also specify the learning rate \"lr\".  \n"
      ],
      "metadata": {
        "id": "ZiD1ESoF255H"
      }
    },
    {
      "cell_type": "code",
      "source": [
        "# importing optimizer from torch\n",
        "from torch import optim  \n",
        "\n",
        "optimizer = optim.Adam(cnn.parameters(),lr = 0.001)\n",
        "print(optimizer)"
      ],
      "metadata": {
        "id": "m4V7SRepi6pk",
        "colab": {
          "base_uri": "https://localhost:8080/"
        },
        "outputId": "80a4198e-df62-4e4d-81b6-cfc8cfd4ddcf"
      },
      "execution_count": null,
      "outputs": [
        {
          "output_type": "stream",
          "name": "stdout",
          "text": [
            "Adam (\n",
            "Parameter Group 0\n",
            "    amsgrad: False\n",
            "    betas: (0.9, 0.999)\n",
            "    capturable: False\n",
            "    eps: 1e-08\n",
            "    foreach: None\n",
            "    lr: 0.001\n",
            "    maximize: False\n",
            "    weight_decay: 0\n",
            ")\n"
          ]
        }
      ]
    },
    {
      "cell_type": "markdown",
      "source": [
        "*   **weight_decay** is the regularization of weights to keep the weights small.\n",
        "*   **eps** is the parameter which decides when to stop going further and when we have reached the minima."
      ],
      "metadata": {
        "id": "5NTr0g_l5-55"
      }
    },
    {
      "cell_type": "markdown",
      "source": [
        "## **Training Loop**\n",
        "\n",
        "Training loop is an iterative process of learning and re-learning on the same dataset. Each iteration is known as epoch.\n",
        "\n",
        "We train our model with a batch of the training dataset and then we perform backward-propagation with the same mini-batch in the first epoch. For the next batch, this cycle of forward propagation and back propagation is repeated. Important thing to note here is that the number of images in each batch can impact the efficieny of our model because the number of images in each batch going forward and backward directly correlates with the number of batches.\n",
        "\n",
        "**LOSS:**\n",
        "\n",
        "The loss we are calculating here reflects the differences between \"prediction_y\" (y_hat) and the actual value of the label \"y\". This difference between y_hat and y is decreased with each iteration in an epoch."
      ],
      "metadata": {
        "id": "JOCTBELB6hq6"
      }
    },
    {
      "cell_type": "code",
      "source": [
        "import tqdm\n",
        "from torch.autograd import Variable\n",
        "\n",
        "def train(num_epoch, cnn, loaders):\n",
        "\n",
        "    # putting our model on training mode.\n",
        "    cnn.train()\n",
        "    for epoch in range(num_epoch):\n",
        "      running_loss = 0\n",
        "      with tqdm.tqdm(loaders['train'], unit='batch') as tepoch:    \n",
        "        # For each epoch we go through all the batches in our training dataset. \n",
        "        for i, (img, labels) in enumerate(tepoch):\n",
        "          \n",
        "          # sending data to device.\n",
        "          x = Variable(img).to(device)\n",
        "          y = Variable(labels).to(device)\n",
        "          \n",
        "          # forward propagatin:\n",
        "          output = cnn(x)\n",
        "          loss = loss_func(output,y)\n",
        "          running_loss += loss\n",
        "\n",
        "          #backward propagation:\n",
        "          optimizer.zero_grad()           # zero_grad() make sure that no gradient carried over from previous calculations.\n",
        "          loss.backward()                 # setting loss on backward mode.\n",
        "          optimizer.step()\n",
        "          tepoch.set_postfix(loss=loss.item())\n",
        "\n",
        "        print(f'Epoch {epoch}; Loss: {running_loss}')"
      ],
      "metadata": {
        "id": "sO4xRW2ljrMU"
      },
      "execution_count": null,
      "outputs": []
    },
    {
      "cell_type": "code",
      "source": [
        "# Model Training\n",
        "NUM_EPOCH = 10\n",
        "train(NUM_EPOCH,cnn,loaders)"
      ],
      "metadata": {
        "id": "XJ_U1BCOkPKT",
        "colab": {
          "base_uri": "https://localhost:8080/"
        },
        "outputId": "2ece6304-4e6f-43f7-b2e7-920bf9bf4f00"
      },
      "execution_count": null,
      "outputs": [
        {
          "output_type": "stream",
          "name": "stderr",
          "text": [
            "100%|██████████| 600/600 [00:11<00:00, 54.31batch/s, loss=0.281]\n"
          ]
        },
        {
          "output_type": "stream",
          "name": "stdout",
          "text": [
            "Epoch 0; Loss: 238.4254150390625\n"
          ]
        },
        {
          "output_type": "stream",
          "name": "stderr",
          "text": [
            "100%|██████████| 600/600 [00:11<00:00, 53.50batch/s, loss=0.206]\n"
          ]
        },
        {
          "output_type": "stream",
          "name": "stdout",
          "text": [
            "Epoch 1; Loss: 161.41000366210938\n"
          ]
        },
        {
          "output_type": "stream",
          "name": "stderr",
          "text": [
            "100%|██████████| 600/600 [00:11<00:00, 53.91batch/s, loss=0.178]\n"
          ]
        },
        {
          "output_type": "stream",
          "name": "stdout",
          "text": [
            "Epoch 2; Loss: 142.17437744140625\n"
          ]
        },
        {
          "output_type": "stream",
          "name": "stderr",
          "text": [
            "100%|██████████| 600/600 [00:11<00:00, 52.63batch/s, loss=0.241]\n"
          ]
        },
        {
          "output_type": "stream",
          "name": "stdout",
          "text": [
            "Epoch 3; Loss: 125.96809387207031\n"
          ]
        },
        {
          "output_type": "stream",
          "name": "stderr",
          "text": [
            "100%|██████████| 600/600 [00:11<00:00, 53.45batch/s, loss=0.199]\n"
          ]
        },
        {
          "output_type": "stream",
          "name": "stdout",
          "text": [
            "Epoch 4; Loss: 115.82244873046875\n"
          ]
        },
        {
          "output_type": "stream",
          "name": "stderr",
          "text": [
            "100%|██████████| 600/600 [00:11<00:00, 53.69batch/s, loss=0.159]\n"
          ]
        },
        {
          "output_type": "stream",
          "name": "stdout",
          "text": [
            "Epoch 5; Loss: 105.26591491699219\n"
          ]
        },
        {
          "output_type": "stream",
          "name": "stderr",
          "text": [
            "100%|██████████| 600/600 [00:11<00:00, 52.88batch/s, loss=0.107]\n"
          ]
        },
        {
          "output_type": "stream",
          "name": "stdout",
          "text": [
            "Epoch 6; Loss: 99.29763793945312\n"
          ]
        },
        {
          "output_type": "stream",
          "name": "stderr",
          "text": [
            "100%|██████████| 600/600 [00:11<00:00, 52.95batch/s, loss=0.11]\n"
          ]
        },
        {
          "output_type": "stream",
          "name": "stdout",
          "text": [
            "Epoch 7; Loss: 90.35321044921875\n"
          ]
        },
        {
          "output_type": "stream",
          "name": "stderr",
          "text": [
            "100%|██████████| 600/600 [00:11<00:00, 52.85batch/s, loss=0.136]\n"
          ]
        },
        {
          "output_type": "stream",
          "name": "stdout",
          "text": [
            "Epoch 8; Loss: 83.7115707397461\n"
          ]
        },
        {
          "output_type": "stream",
          "name": "stderr",
          "text": [
            "100%|██████████| 600/600 [00:11<00:00, 52.41batch/s, loss=0.154]"
          ]
        },
        {
          "output_type": "stream",
          "name": "stdout",
          "text": [
            "Epoch 9; Loss: 79.0379867553711\n"
          ]
        },
        {
          "output_type": "stream",
          "name": "stderr",
          "text": [
            "\n"
          ]
        }
      ]
    },
    {
      "cell_type": "markdown",
      "source": [
        "## **Testing Loop**\n",
        "\n",
        "The testing loop starts with \"with torch.no_grad()\" statement which indicates to PyTorch that this is not a training loop. We don't want to perform any  gradient calculation and therefore don't allocate any processing unit for this purpose. We want everything as efficient as possible.\n",
        "\n"
      ],
      "metadata": {
        "id": "ZSE1eJBOk8EN"
      }
    },
    {
      "cell_type": "code",
      "source": [
        "from sklearn.metrics import confusion_matrix\n",
        "\n",
        "actual_y_test = []\n",
        "predicted_y_test = []\n",
        "# We don't really need to test our model on the device.\n",
        "cnn.to('cpu')\n",
        "with torch.no_grad():\n",
        "  for (images, labels) in loaders['test']:\n",
        "    \n",
        "    # forward.\n",
        "    test_output = cnn(images)\n",
        "    pred_y = torch.max(test_output,1)[1].data.squeeze()\n",
        "    actual_y_test += labels.tolist()\n",
        "    predicted_y_test += pred_y.tolist()\n"
      ],
      "metadata": {
        "id": "mKi2pcoEofca"
      },
      "execution_count": null,
      "outputs": []
    },
    {
      "cell_type": "markdown",
      "source": [
        "## **Confusion Matrix**\n",
        "\n",
        "For checking the accuracy of our model we are using confusion matrix.\n",
        "\n"
      ],
      "metadata": {
        "id": "rB1kAKbxmDno"
      }
    },
    {
      "cell_type": "code",
      "source": [
        "cf_matrix=confusion_matrix(actual_y_test,predicted_y_test)\n",
        "cf_matrix"
      ],
      "metadata": {
        "id": "s-RJ9DoWmJAx",
        "colab": {
          "base_uri": "https://localhost:8080/"
        },
        "outputId": "2848c758-cb93-4977-afa3-d26d2e50f127"
      },
      "execution_count": null,
      "outputs": [
        {
          "output_type": "execute_result",
          "data": {
            "text/plain": [
              "array([[779,   0,   9,  11,   7,   3, 188,   0,   3,   0],\n",
              "       [  0, 986,   0,   5,   1,   0,   7,   0,   1,   0],\n",
              "       [ 13,   1, 744,   8,  88,   0, 146,   0,   0,   0],\n",
              "       [  8,   2,   6, 899,  30,   0,  55,   0,   0,   0],\n",
              "       [  1,   0,  13,  23, 889,   0,  74,   0,   0,   0],\n",
              "       [  0,   0,   0,   0,   0, 987,   0,   9,   0,   4],\n",
              "       [ 46,   1,  18,  16,  56,   0, 859,   0,   4,   0],\n",
              "       [  0,   0,   0,   0,   0,  10,   0, 975,   0,  15],\n",
              "       [  2,   0,   0,   6,   3,   3,   9,   2, 975,   0],\n",
              "       [  1,   0,   0,   0,   0,   8,   0,  34,   0, 957]])"
            ]
          },
          "metadata": {},
          "execution_count": 34
        }
      ]
    },
    {
      "cell_type": "markdown",
      "source": [
        "## **Heatmap**"
      ],
      "metadata": {
        "id": "0vaAVQb8QxiW"
      }
    },
    {
      "cell_type": "code",
      "source": [
        "lable_lst = list(Labels.values())\n",
        "df_cm = pd.DataFrame(cf_matrix/np.sum(cf_matrix)*10, index = lable_lst,\n",
        "                     columns = lable_lst)\n",
        "plt.figure(figsize = (12,7))\n",
        "sn.heatmap(df_cm, annot=True)\n",
        "plt.savefig('output.png')"
      ],
      "metadata": {
        "colab": {
          "base_uri": "https://localhost:8080/",
          "height": 428
        },
        "id": "mSZKwgLDq-IH",
        "outputId": "c8643a53-57a3-4187-9fd5-9b0b2c0a8c8c"
      },
      "execution_count": null,
      "outputs": [
        {
          "output_type": "display_data",
          "data": {
            "text/plain": [
              "<Figure size 864x504 with 2 Axes>"
            ],
            "image/png": "[encoded data removed]"
          },
          "metadata": {
            "needs_background": "light"
          }
        }
      ]
    },
    {
      "cell_type": "markdown",
      "source": [
        "## **Classification Report**"
      ],
      "metadata": {
        "id": "AFtfoTDOmTFi"
      }
    },
    {
      "cell_type": "code",
      "source": [
        "from sklearn.metrics import classification_report\n",
        "cr = classification_report(actual_y_test,predicted_y_test,target_names=lable_lst)\n",
        "print(cr)"
      ],
      "metadata": {
        "colab": {
          "base_uri": "https://localhost:8080/"
        },
        "id": "wLahj-UnPdb9",
        "outputId": "8c9e538b-86f5-4033-ba81-fae297938c73"
      },
      "execution_count": null,
      "outputs": [
        {
          "output_type": "stream",
          "name": "stdout",
          "text": [
            "              precision    recall  f1-score   support\n",
            "\n",
            " T-shirt/Top       0.92      0.78      0.84      1000\n",
            "     Trouser       1.00      0.99      0.99      1000\n",
            "    Pullover       0.94      0.74      0.83      1000\n",
            "       Dress       0.93      0.90      0.91      1000\n",
            "        Coat       0.83      0.89      0.86      1000\n",
            "      Sandal       0.98      0.99      0.98      1000\n",
            "       Shirt       0.64      0.86      0.73      1000\n",
            "     Sneaker       0.96      0.97      0.97      1000\n",
            "         Bag       0.99      0.97      0.98      1000\n",
            "  Ankle Boot       0.98      0.96      0.97      1000\n",
            "\n",
            "    accuracy                           0.91     10000\n",
            "   macro avg       0.92      0.91      0.91     10000\n",
            "weighted avg       0.92      0.91      0.91     10000\n",
            "\n"
          ]
        }
      ]
    }
  ]
}